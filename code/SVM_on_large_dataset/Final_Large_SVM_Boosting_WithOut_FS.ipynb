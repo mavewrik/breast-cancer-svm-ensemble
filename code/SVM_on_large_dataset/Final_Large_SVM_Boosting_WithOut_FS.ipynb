{
 "cells": [
  {
   "cell_type": "code",
   "execution_count": 1,
   "metadata": {},
   "outputs": [],
   "source": [
    "import pandas as pd\n",
    "import numpy as np\n",
    "import matplotlib.pyplot as plt\n",
    "from sklearn.svm import SVC\n",
    "from sklearn import svm\n",
    "from sklearn.preprocessing import MinMaxScaler,scale\n",
    "from sklearn.ensemble import BaggingClassifier\n",
    "from sklearn.model_selection import train_test_split, GridSearchCV\n",
    "from sklearn.feature_selection import VarianceThreshold\n",
    "from sklearn.ensemble import AdaBoostClassifier\n",
    "import warnings\n",
    "warnings.filterwarnings('ignore')\n",
    "from sklearn.feature_selection import SelectKBest,chi2\n",
    "from prettytable import PrettyTable\n",
    "from sklearn.metrics import accuracy_score, confusion_matrix, roc_curve, auc,f1_score,precision_score,recall_score,precision_recall_curve,matthews_corrcoef"
   ]
  },
  {
   "cell_type": "markdown",
   "metadata": {},
   "source": [
    "### Metrics"
   ]
  },
  {
   "cell_type": "code",
   "execution_count": 2,
   "metadata": {},
   "outputs": [],
   "source": [
    "def pre_processing(X):\n",
    "    return scale(X)\n",
    "\n",
    "def metric_accuracy(clf, X_train, y_train, X_test, y_test):\n",
    "    y_train_pred, y_test_pred = clf.predict(X_train), clf.predict(X_test)\n",
    "    print('Train Accuracy:', accuracy_score(y_train, y_train_pred),'\\nTest Accuracy:', accuracy_score(y_test, y_test_pred))\n",
    "    \n",
    "def draw_roc(y_actual, scores, title=''):\n",
    "    fpr, tpr, thresholds = roc_curve(y_actual, scores, pos_label=1)\n",
    "    auroc_value = auc(fpr, tpr)\n",
    "\n",
    "    plt.plot(fpr,tpr, label = 'AUC: '+str(round(auroc_value, 4)))\n",
    "    plt.plot([0,1],[0,1],'k--')\n",
    "    plt.xlabel('FPR = 1-Specificity')\n",
    "    plt.ylabel(\"TPR = Recall = Sensitivity\")\n",
    "    plt.title(\"AUC-ROC Curve: \" + title)\n",
    "    plt.legend(loc = 'lower right')\n",
    "    plt.savefig(title+'-ROC')\n",
    "    return auroc_value\n",
    "    \n",
    "def metric(y_test, y_pred,scores, title=''):\n",
    "    tn, fp, fn, tp = confusion_matrix(y_test, y_pred).ravel()\n",
    "    specificity, acc, f1, precision, recall, mcc = tn/(tn + fp) ,accuracy_score(y_test, y_pred), f1_score(y_test, y_pred), precision_score(y_test, y_pred), recall_score(y_test, y_pred), matthews_corrcoef(y_test, y_pred)\n",
    "    \n",
    "    x,metric_list = PrettyTable(), []\n",
    "    \n",
    "    x.field_names = [\"Evaluation Metric\", \"Score\"];\n",
    "    x.add_row([\"Accuracy\", round(acc, 4)]); metric_list.append([\"Accuracy\",round(acc, 4)])\n",
    "    x.add_row([\"F1-score\", round(f1, 4)]); metric_list.append(['F1-score',round(f1, 4)])\n",
    "    x.add_row([\"Precision\", round(precision, 4)]); metric_list.append(['Precision', round(precision, 4)])\n",
    "    x.add_row([\"Recall\", round(recall, 4)]); metric_list.append([\"Recall\", round(recall, 4)])\n",
    "    x.add_row([\"Specificity\", round(specificity, 4)]); metric_list.append([\"Specificity\", round(specificity, 4)])\n",
    "    x.add_row([\"MCC\", round(mcc, 4)]); metric_list.append([\"MCC\", round(mcc, 4)])\n",
    "    \n",
    "    auroc_value = draw_roc(y_test,scores, title)\n",
    "    x.add_row([\"AUROC value\", round(auroc_value, 4)]); metric_list.append([\"AUROC value\", round(auroc_value, 4)])\n",
    "    \n",
    "    print(x);plt.show()\n",
    "    print('--------------------------------------------------------------\\n\\n\\n')\n",
    "    return metric_list"
   ]
  },
  {
   "cell_type": "markdown",
   "metadata": {},
   "source": [
    "### Data loading"
   ]
  },
  {
   "cell_type": "code",
   "execution_count": 3,
   "metadata": {},
   "outputs": [],
   "source": [
    "data = pd.read_csv(\"../datasets/LargeDataSet.csv\")"
   ]
  },
  {
   "cell_type": "code",
   "execution_count": 4,
   "metadata": {},
   "outputs": [
    {
     "data": {
      "text/plain": [
       "((5000, 117), (5000,))"
      ]
     },
     "execution_count": 4,
     "metadata": {},
     "output_type": "execute_result"
    }
   ],
   "source": [
    "# data_X=data.iloc[:,2:].values\n",
    "# data_Y_names=data.iloc[:,1].values\n",
    "\n",
    "# data_X, data_Y_names=data.values[:,2:], data.values[:,1]\n",
    "\n",
    "# data_classes={'B':0, 'M':1}\n",
    "# data_Y=[]\n",
    "# for i in data_Y_names:\n",
    "#     data_Y.append(data_classes[i])\n",
    "# data_Y=np.asarray(data_Y)\n",
    "\n",
    "data_X = data.iloc[:,0:117].values\n",
    "data_Y = data.iloc[:,117].values\n",
    "data_X.shape,data_Y.shape"
   ]
  },
  {
   "cell_type": "markdown",
   "metadata": {},
   "source": [
    "### Pre-Processing"
   ]
  },
  {
   "cell_type": "code",
   "execution_count": 5,
   "metadata": {},
   "outputs": [],
   "source": [
    "data_X=scale(data_X)"
   ]
  },
  {
   "cell_type": "markdown",
   "metadata": {},
   "source": [
    "### Split"
   ]
  },
  {
   "cell_type": "code",
   "execution_count": 6,
   "metadata": {},
   "outputs": [
    {
     "data": {
      "text/plain": [
       "((4500, 117), (4500,), (500, 117), (500,))"
      ]
     },
     "execution_count": 6,
     "metadata": {},
     "output_type": "execute_result"
    }
   ],
   "source": [
    "X_train, X_test, y_train, y_test = train_test_split(data_X, data_Y, test_size=0.1,random_state=20)\n",
    "X_train.shape,y_train.shape,X_test.shape, y_test.shape"
   ]
  },
  {
   "cell_type": "markdown",
   "metadata": {},
   "source": [
    "### Model"
   ]
  },
  {
   "cell_type": "code",
   "execution_count": 7,
   "metadata": {},
   "outputs": [],
   "source": [
    "model = AdaBoostClassifier(base_estimator=svm.SVC(probability=True))"
   ]
  },
  {
   "cell_type": "markdown",
   "metadata": {},
   "source": [
    "### SVM Boosting (kernel=Linear)"
   ]
  },
  {
   "cell_type": "code",
   "execution_count": 8,
   "metadata": {},
   "outputs": [
    {
     "name": "stdout",
     "output_type": "stream",
     "text": [
      "SVM(kernel=Linear) classifier\n",
      "+-------------------+--------+\n",
      "| Evaluation Metric | Score  |\n",
      "+-------------------+--------+\n",
      "|      Accuracy     | 0.8771 |\n",
      "|      F1-score     | 0.0036 |\n",
      "|     Precision     |  0.25  |\n",
      "|       Recall      | 0.0018 |\n",
      "|    Specificity    | 0.9992 |\n",
      "|        MCC        | 0.0116 |\n",
      "|    AUROC value    | 0.7966 |\n",
      "+-------------------+--------+\n"
     ]
    },
    {
     "data": {
      "image/png": "[encoded data removed]",
      "text/plain": [
       "<Figure size 432x288 with 1 Axes>"
      ]
     },
     "metadata": {
      "needs_background": "light"
     },
     "output_type": "display_data"
    },
    {
     "name": "stdout",
     "output_type": "stream",
     "text": [
      "--------------------------------------------------------------\n",
      "\n",
      "\n",
      "\n",
      "+-------------------+---------+\n",
      "| Evaluation Metric |  Score  |\n",
      "+-------------------+---------+\n",
      "|      Accuracy     |  0.854  |\n",
      "|      F1-score     |   0.0   |\n",
      "|     Precision     |   0.0   |\n",
      "|       Recall      |   0.0   |\n",
      "|    Specificity    |  0.9977 |\n",
      "|        MCC        | -0.0184 |\n",
      "|    AUROC value    |  0.7424 |\n",
      "+-------------------+---------+\n"
     ]
    },
    {
     "data": {
      "image/png": "[encoded data removed]",
      "text/plain": [
       "<Figure size 432x288 with 1 Axes>"
      ]
     },
     "metadata": {
      "needs_background": "light"
     },
     "output_type": "display_data"
    },
    {
     "name": "stdout",
     "output_type": "stream",
     "text": [
      "--------------------------------------------------------------\n",
      "\n",
      "\n",
      "\n"
     ]
    }
   ],
   "source": [
    "param_grid = {\n",
    "    'base_estimator__kernel' : ['linear'],\n",
    "#     'base_estimator__C' : [1,10,15,20],\n",
    "#     'n_estimators' : [1,10,20]\n",
    "}\n",
    "\n",
    "linear_svm = GridSearchCV(model,param_grid,n_jobs=-1,cv=5)\n",
    "linear_svm.fit(X_train,y_train)\n",
    "\n",
    "\n",
    "linear_svm_train_pred, linear_svm_test_pred = linear_svm.predict(X_train), linear_svm.predict(X_test)\n",
    "linear_svm_train_scores, linear_svm_test_scores = linear_svm.predict_proba(X_train)[:,1], linear_svm.predict_proba(X_test)[:,1]\n",
    "\n",
    "\n",
    "print('SVM(kernel=Linear) classifier')\n",
    "linear_svm_metric_list_train, linear_metric_list_test = metric(y_train, linear_svm_train_pred, linear_svm_train_scores, 'SVM(Train metrics)'),\\\n",
    "                                                        metric(y_test, linear_svm_test_pred, linear_svm_test_scores, 'SVM (Test metrics)')"
   ]
  },
  {
   "cell_type": "markdown",
   "metadata": {},
   "source": [
    "### SVM Boosting (kernel=Poly)"
   ]
  },
  {
   "cell_type": "code",
   "execution_count": null,
   "metadata": {},
   "outputs": [],
   "source": [
    "param_grid = {\n",
    "    'base_estimator__kernel' : ['poly'],\n",
    "#     'base_estimator__C' : [1,10,15,20],\n",
    "#     'base_estimator__degree' : [0.5,1,2,3],\n",
    "#     'n_estimators' : [20,25]\n",
    "}\n",
    "\n",
    "poly_svm = GridSearchCV(model,param_grid,n_jobs=-1,cv=5)\n",
    "poly_svm.fit(X_train,y_train)\n",
    "\n",
    "poly_svm_train_pred, poly_svm_test_pred = poly_svm.predict(X_train), poly_svm.predict(X_test)\n",
    "poly_svm_train_scores, poly_svm_test_scores = poly_svm.predict_proba(X_train)[:,1], poly_svm.predict_proba(X_test)[:,1]\n",
    "\n",
    "\n",
    "print('SVM(kernel=Poly) classifier')\n",
    "poly_svm_metric_list_train, poly_svm_metric_list_test = metric(y_train, poly_svm_train_pred, poly_svm_train_scores, 'SVM(Train metrics)'),\\\n",
    "                                                        metric(y_test, poly_svm_test_pred, poly_svm_test_scores, 'SVM (Test metrics)')"
   ]
  },
  {
   "cell_type": "markdown",
   "metadata": {},
   "source": [
    "### SVM Boosting (kernel=RBF)"
   ]
  },
  {
   "cell_type": "code",
   "execution_count": null,
   "metadata": {},
   "outputs": [],
   "source": [
    "param_grid = {\n",
    "    'base_estimator__kernel' : ['rbf'],\n",
    "#     'base_estimator__C' : [1,10,15,20],\n",
    "#     'base_estimator__gamma' : [0.0001,0.001,0.01,0.1,1],\n",
    "#     'n_estimators' : [20,25],\n",
    "}\n",
    "\n",
    "rbf_svm = GridSearchCV(model,param_grid,n_jobs=-1,cv=5)\n",
    "rbf_svm.fit(X_train,y_train)\n",
    "\n",
    "rbf_svm_train_pred, rbf_svm_test_pred = rbf_svm.predict(X_train), rbf_svm.predict(X_test)\n",
    "rbf_svm_train_scores, rbf_svm_test_scores = rbf_svm.predict_proba(X_train)[:,1], rbf_svm.predict_proba(X_test)[:,1]\n",
    "\n",
    "\n",
    "print('SVM(kernel=RBF) classifier')\n",
    "rbf_svm_metric_list_train, rbf_svm_metric_list_test = metric(y_train, rbf_svm_train_pred, rbf_svm_train_scores, 'SVM(Train metrics)'),\\\n",
    "                                                        metric(y_test, rbf_svm_test_pred, rbf_svm_test_scores, 'SVM (Test metrics)')"
   ]
  },
  {
   "cell_type": "code",
   "execution_count": null,
   "metadata": {},
   "outputs": [],
   "source": []
  }
 ],
 "metadata": {
  "kernelspec": {
   "display_name": "Python 3",
   "language": "python",
   "name": "python3"
  },
  "language_info": {
   "codemirror_mode": {
    "name": "ipython",
    "version": 3
   },
   "file_extension": ".py",
   "mimetype": "text/x-python",
   "name": "python",
   "nbconvert_exporter": "python",
   "pygments_lexer": "ipython3",
   "version": "3.7.1"
  }
 },
 "nbformat": 4,
 "nbformat_minor": 2
}
