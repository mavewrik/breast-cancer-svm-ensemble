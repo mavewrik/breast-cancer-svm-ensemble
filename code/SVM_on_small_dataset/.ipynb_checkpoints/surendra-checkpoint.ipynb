{
 "cells": [
  {
   "cell_type": "code",
   "execution_count": null,
   "metadata": {},
   "outputs": [],
   "source": [
    "# %load_ext nb_black"
   ]
  },
  {
   "cell_type": "code",
   "execution_count": 17,
   "metadata": {},
   "outputs": [],
   "source": [
    "import pandas as pd\n",
    "import numpy as np\n",
    "import matplotlib.pyplot as plt\n",
    "from sklearn.svm import SVC\n",
    "from sklearn.preprocessing import MinMaxScaler,scale\n",
    "from sklearn.ensemble import BaggingClassifier\n",
    "from sklearn.model_selection import train_test_split, GridSearchCV\n",
    "from sklearn.feature_selection import VarianceThreshold\n",
    "import warnings\n",
    "warnings.filterwarnings('ignore')\n",
    "from sklearn.feature_selection import SelectKBest,chi2\n",
    "from prettytable import PrettyTable\n",
    "from collections import Counter\n",
    "\n",
    "from sklearn.metrics import accuracy_score, confusion_matrix, roc_curve, auc,f1_score,precision_score,recall_score,precision_recall_curve,matthews_corrcoef"
   ]
  },
  {
   "cell_type": "markdown",
   "metadata": {},
   "source": [
    "### Methods Used"
   ]
  },
  {
   "cell_type": "code",
   "execution_count": 14,
   "metadata": {},
   "outputs": [],
   "source": [
    "def pre_processing(X):\n",
    "    return scale(X)\n",
    "\n",
    "def metric_accuracy(clf, X_train, y_train, X_test, y_test):\n",
    "    y_train_pred, y_test_pred = clf.predict(X_train), clf.predict(X_test)\n",
    "    print('Train Accuracy:', accuracy_score(y_train, y_train_pred),'\\nTest Accuracy:', accuracy_score(y_test, y_test_pred))\n",
    "\n",
    "def draw_confusion_matrix(y_actual, y_predicted):\n",
    "    cm=confusion_matrix(y_actual, y_predicted)\n",
    "    labels = ['Benign', 'Malignant']\n",
    "    no_of_labels = 2\n",
    "    print(\"\\nConfusion matrix : \")\n",
    "    x = PrettyTable()\n",
    "    print(\"                   Predicted labels →\")\n",
    "    x.field_names = [\"Actual labels ↓\"] + [str(labels[i]) for i in range(no_of_labels)]\n",
    "    for i in range(no_of_labels):\n",
    "        ls = [(str(labels[i]))] + list(cm[i])\n",
    "        x.add_row(ls)\n",
    "    print(x) \n",
    "    \n",
    "def draw_roc(y_actual, scores, title=''):\n",
    "    fpr, tpr, thresholds = roc_curve(y_actual, scores, pos_label=1)\n",
    "    auroc_value = auc(fpr, tpr)\n",
    "\n",
    "    plt.plot(fpr,tpr, label = 'AUC: '+str(round(auroc_value, 4)))\n",
    "    plt.plot([0,1],[0,1],'k--')\n",
    "    plt.xlabel('FPR = 1-Specificity')\n",
    "    plt.ylabel(\"TPR = Recall = Sensitivity\")\n",
    "    plt.title(\"AUC-ROC Curve: \" + title)\n",
    "    plt.legend(loc = 'lower right')\n",
    "    plt.savefig(title+'-ROC')\n",
    "    return auroc_value\n",
    "    \n",
    "def metric(y_test, y_pred,scores, title=''):\n",
    "    tn, fp, fn, tp = confusion_matrix(y_test, y_pred).ravel()\n",
    "    specificity, acc, f1, precision, recall, mcc = tn/(tn + fp) ,accuracy_score(y_test, y_pred), f1_score(y_test, y_pred), precision_score(y_test, y_pred), recall_score(y_test, y_pred), matthews_corrcoef(y_test, y_pred)\n",
    "    \n",
    "    x,metric_list = PrettyTable(), []\n",
    "    \n",
    "    x.field_names = [\"Evaluation Metric\", \"Score\"]; \n",
    "    x.add_row([\"Accuracy\", round(acc, 4)]); metric_list.append([\"Accuracy\",round(acc, 4)])\n",
    "    x.add_row([\"F1-score\", round(f1, 4)]); metric_list.append(['F1-score',round(f1, 4)])\n",
    "    x.add_row([\"Precision\", round(precision, 4)]); metric_list.append(['Precision', round(precision, 4)])\n",
    "    x.add_row([\"Recall\", round(recall, 4)]); metric_list.append([\"Recall\", round(recall, 4)])\n",
    "    x.add_row([\"Specificity\", round(specificity, 4)]); metric_list.append([\"Specificity\", round(specificity, 4)])\n",
    "    x.add_row([\"MCC\", round(mcc, 4)]); metric_list.append([\"MCC\", round(mcc, 4)])\n",
    "    \n",
    "    auroc_value = draw_roc(y_test,scores, title)\n",
    "    x.add_row([\"AUROC value\", round(auroc_value, 4)]); metric_list.append([\"AUROC value\", round(auroc_value, 4)])\n",
    "    \n",
    "    print(x);\n",
    "    draw_confusion_matrix(y_test, y_pred)\n",
    "    plt.show()\n",
    "    print('--------------------------------------------------------------\\n\\n\\n')\n",
    "    return metric_list"
   ]
  },
  {
   "cell_type": "markdown",
   "metadata": {},
   "source": [
    "### Train data loading"
   ]
  },
  {
   "cell_type": "code",
   "execution_count": 12,
   "metadata": {
    "scrolled": true
   },
   "outputs": [],
   "source": [
    "train_data = pd.read_csv(\"../datasets/SmallDataset.csv\")"
   ]
  },
  {
   "cell_type": "code",
   "execution_count": 5,
   "metadata": {},
   "outputs": [],
   "source": [
    "data_X=train_data.iloc[:,2:].values\n",
    "data_Y_names=train_data.iloc[:,1].values\n",
    "\n",
    "data_X, data_Y_names=train_data.values[:,2:], train_data.values[:,1]\n",
    "\n",
    "data_classes={'B':0, 'M':1}\n",
    "data_Y=[]\n",
    "for i in data_Y_names:\n",
    "    data_Y.append(data_classes[i])\n",
    "data_Y=np.asarray(data_Y)\n",
    "\n",
    "X_train, y_train = data_X, data_Y"
   ]
  },
  {
   "cell_type": "markdown",
   "metadata": {},
   "source": [
    "### Test data loading"
   ]
  },
  {
   "cell_type": "code",
   "execution_count": 6,
   "metadata": {},
   "outputs": [
    {
     "data": {
      "text/plain": [
       "(569, 30)"
      ]
     },
     "execution_count": 6,
     "metadata": {},
     "output_type": "execute_result"
    }
   ],
   "source": [
    "test_data = pd.read_csv(\"../datasets/SmallDataset.csv\")\n",
    "\n",
    "test_X=test_data.iloc[:,2:].values\n",
    "test_X=train_data.values[:,2:]\n",
    "X_test = test_X"
   ]
  },
  {
   "cell_type": "markdown",
   "metadata": {},
   "source": [
    "### Model"
   ]
  },
  {
   "cell_type": "markdown",
   "metadata": {},
   "source": [
    "#### kernel=rbf"
   ]
  },
  {
   "cell_type": "code",
   "execution_count": 7,
   "metadata": {},
   "outputs": [
    {
     "data": {
      "text/plain": [
       "GridSearchCV(cv=5, error_score='raise-deprecating',\n",
       "       estimator=SVC(C=1.0, cache_size=200, class_weight=None, coef0=0.0,\n",
       "  decision_function_shape='ovr', degree=3, gamma='auto_deprecated',\n",
       "  kernel='rbf', max_iter=-1, probability=True, random_state=None,\n",
       "  shrinking=True, tol=0.001, verbose=False),\n",
       "       fit_params=None, iid='warn', n_jobs=None,\n",
       "       param_grid={'C': [0.001, 0.01, 0.1, 1, 10, 100, 1000], 'gamma': [0.0001, 0.001, 0.01, 0.1, 1]},\n",
       "       pre_dispatch='2*n_jobs', refit=True, return_train_score='warn',\n",
       "       scoring=None, verbose=0)"
      ]
     },
     "execution_count": 7,
     "metadata": {},
     "output_type": "execute_result"
    }
   ],
   "source": [
    "Cs = [0.001, 0.01, 0.1, 1, 10,100,1000]\n",
    "gammas = [0.0001,0.001, 0.01, 0.1, 1]\n",
    "param_grid = {'C': Cs, 'gamma' : gammas}\n",
    "model = GridSearchCV(SVC(kernel='rbf',probability=True), param_grid, cv=5)\n",
    "model.fit(X_train,y_train)"
   ]
  },
  {
   "cell_type": "code",
   "execution_count": 8,
   "metadata": {},
   "outputs": [],
   "source": [
    "train_pred = model.predict(X_train)\n",
    "test_pred = model.predict(X_test)"
   ]
  },
  {
   "cell_type": "code",
   "execution_count": 9,
   "metadata": {},
   "outputs": [],
   "source": [
    "train_scores  = model.predict_proba(X_train)[:,1]\n",
    "test_scores = model.predict_proba(X_test)[:,1]"
   ]
  },
  {
   "cell_type": "code",
   "execution_count": 15,
   "metadata": {},
   "outputs": [
    {
     "name": "stdout",
     "output_type": "stream",
     "text": [
      "SVM(kernel=RBF) classifier\n",
      "+-------------------+--------+\n",
      "| Evaluation Metric | Score  |\n",
      "+-------------------+--------+\n",
      "|      Accuracy     | 0.9859 |\n",
      "|      F1-score     | 0.981  |\n",
      "|     Precision     | 0.9857 |\n",
      "|       Recall      | 0.9764 |\n",
      "|    Specificity    | 0.9916 |\n",
      "|        MCC        | 0.9699 |\n",
      "|    AUROC value    | 0.9995 |\n",
      "+-------------------+--------+\n",
      "\n",
      "Confusion matrix : \n",
      "                   Predicted labels →\n",
      "+-----------------+--------+-----------+\n",
      "| Actual labels ↓ | Benign | Malignant |\n",
      "+-----------------+--------+-----------+\n",
      "|      Benign     |  354   |     3     |\n",
      "|    Malignant    |   5    |    207    |\n",
      "+-----------------+--------+-----------+\n"
     ]
    },
    {
     "data": {
      "image/png": "[encoded data removed]",
      "text/plain": [
       "<Figure size 432x288 with 1 Axes>"
      ]
     },
     "metadata": {
      "needs_background": "light"
     },
     "output_type": "display_data"
    },
    {
     "name": "stdout",
     "output_type": "stream",
     "text": [
      "--------------------------------------------------------------\n",
      "\n",
      "\n",
      "\n"
     ]
    }
   ],
   "source": [
    "print('SVM(kernel=RBF) classifier')\n",
    "metric_list_train  = metric(y_train, train_pred, train_scores, 'SVM(Train metrics)')"
   ]
  },
  {
   "cell_type": "code",
   "execution_count": 19,
   "metadata": {},
   "outputs": [],
   "source": [
    "# metric_list_test = metric(y_test, test_pred, test_scores, 'SVM (Test metrics)')"
   ]
  }
 ],
 "metadata": {
  "kernelspec": {
   "display_name": "Python 3",
   "language": "python",
   "name": "python3"
  },
  "language_info": {
   "codemirror_mode": {
    "name": "ipython",
    "version": 3
   },
   "file_extension": ".py",
   "mimetype": "text/x-python",
   "name": "python",
   "nbconvert_exporter": "python",
   "pygments_lexer": "ipython3",
   "version": "3.7.1"
  }
 },
 "nbformat": 4,
 "nbformat_minor": 2
}
