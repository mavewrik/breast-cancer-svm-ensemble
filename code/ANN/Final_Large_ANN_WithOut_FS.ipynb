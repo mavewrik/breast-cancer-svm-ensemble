{
 "cells": [
  {
   "cell_type": "code",
   "execution_count": 1,
   "metadata": {},
   "outputs": [],
   "source": [
    "# %load_ext nb_black"
   ]
  },
  {
   "cell_type": "code",
   "execution_count": 1,
   "metadata": {},
   "outputs": [],
   "source": [
    "import pandas as pd\n",
    "import numpy as np\n",
    "import matplotlib.pyplot as plt\n",
    "from sklearn.svm import SVC\n",
    "from sklearn.preprocessing import MinMaxScaler,scale\n",
    "from sklearn.ensemble import BaggingClassifier\n",
    "from sklearn.model_selection import train_test_split, GridSearchCV\n",
    "from sklearn.feature_selection import VarianceThreshold\n",
    "import warnings\n",
    "warnings.filterwarnings('ignore')\n",
    "from sklearn.feature_selection import SelectKBest,chi2\n",
    "from prettytable import PrettyTable\n",
    "from sklearn.neural_network import MLPClassifier\n",
    "from sklearn.metrics import accuracy_score, confusion_matrix, roc_curve, auc,f1_score,precision_score,recall_score,precision_recall_curve,matthews_corrcoef"
   ]
  },
  {
   "cell_type": "markdown",
   "metadata": {},
   "source": [
    "### Methods Used"
   ]
  },
  {
   "cell_type": "code",
   "execution_count": 2,
   "metadata": {},
   "outputs": [],
   "source": [
    "def pre_processing(X):\n",
    "    return scale(X)\n",
    "\n",
    "def metric_accuracy(clf, X_train, y_train, X_test, y_test):\n",
    "    y_train_pred, y_test_pred = clf.predict(X_train), clf.predict(X_test)\n",
    "    print('Train Accuracy:', accuracy_score(y_train, y_train_pred),'\\nTest Accuracy:', accuracy_score(y_test, y_test_pred))\n",
    "\n",
    "def draw_roc(y_actual, scores, title=''):\n",
    "    fpr, tpr, thresholds = roc_curve(y_actual, scores, pos_label=1)\n",
    "    auroc_value = auc(fpr, tpr)\n",
    "\n",
    "    plt.plot(fpr,tpr, label = 'AUC: '+str(round(auroc_value, 4)))\n",
    "    plt.plot([0,1],[0,1],'k--')\n",
    "    plt.xlabel('FPR = 1-Specificity')\n",
    "    plt.ylabel(\"TPR = Recall = Sensitivity\")\n",
    "    plt.title(\"AUC-ROC Curve: \" + title)\n",
    "    plt.legend(loc = 'lower right')\n",
    "    plt.savefig(title+'-ROC')\n",
    "    return auroc_value\n",
    "    \n",
    "def metric(y_test, y_pred,scores, title=''):\n",
    "    tn, fp, fn, tp = confusion_matrix(y_test, y_pred).ravel()\n",
    "    specificity, acc, f1, precision, recall, mcc = tn/(tn + fp) ,accuracy_score(y_test, y_pred), f1_score(y_test, y_pred), precision_score(y_test, y_pred), recall_score(y_test, y_pred), matthews_corrcoef(y_test, y_pred)\n",
    "    \n",
    "    x,metric_list = PrettyTable(), []\n",
    "    \n",
    "    x.field_names = [\"Evaluation Metric\", \"Score\"]; \n",
    "    x.add_row([\"Accuracy\", round(acc, 4)]); metric_list.append([\"Accuracy\",round(acc, 4)])\n",
    "    x.add_row([\"F1-score\", round(f1, 4)]); metric_list.append(['F1-score',round(f1, 4)])\n",
    "    x.add_row([\"Precision\", round(precision, 4)]); metric_list.append(['Precision', round(precision, 4)])\n",
    "    x.add_row([\"Recall\", round(recall, 4)]); metric_list.append([\"Recall\", round(recall, 4)])\n",
    "    x.add_row([\"Specificity\", round(specificity, 4)]); metric_list.append([\"Specificity\", round(specificity, 4)])\n",
    "    x.add_row([\"MCC\", round(mcc, 4)]); metric_list.append([\"MCC\", round(mcc, 4)])\n",
    "    \n",
    "    auroc_value = draw_roc(y_test,scores, title)\n",
    "    x.add_row([\"AUROC value\", round(auroc_value, 4)]); metric_list.append([\"AUROC value\", round(auroc_value, 4)])\n",
    "    \n",
    "    print(x);plt.show()\n",
    "    print('--------------------------------------------------------------\\n\\n\\n')\n",
    "    return metric_list"
   ]
  },
  {
   "cell_type": "markdown",
   "metadata": {},
   "source": [
    "### Data loading"
   ]
  },
  {
   "cell_type": "code",
   "execution_count": 3,
   "metadata": {
    "scrolled": true
   },
   "outputs": [],
   "source": [
    "data = pd.read_csv(\"../datasets/LargeDataSet.csv\")"
   ]
  },
  {
   "cell_type": "code",
   "execution_count": 4,
   "metadata": {},
   "outputs": [
    {
     "data": {
      "text/plain": [
       "((5000, 117), (5000,))"
      ]
     },
     "execution_count": 4,
     "metadata": {},
     "output_type": "execute_result"
    }
   ],
   "source": [
    "# data_X=data.iloc[:,2:].values\n",
    "# data_Y_names=data.iloc[:,1].values\n",
    "\n",
    "# data_X, data_Y_names=data.values[:,2:], data.values[:,1]\n",
    "\n",
    "# data_classes={'B':0, 'M':1}\n",
    "# data_Y=[]\n",
    "# for i in data_Y_names:\n",
    "#     data_Y.append(data_classes[i])\n",
    "# data_Y=np.asarray(data_Y)\n",
    "\n",
    "\n",
    "data_X=data.iloc[:,0:117].values\n",
    "data_Y=data.iloc[:,117].values\n",
    "\n",
    "data_X.shape,data_Y.shape"
   ]
  },
  {
   "cell_type": "markdown",
   "metadata": {},
   "source": [
    "### Pre-Processing"
   ]
  },
  {
   "cell_type": "code",
   "execution_count": 5,
   "metadata": {
    "scrolled": true
   },
   "outputs": [],
   "source": [
    "data_X=scale(data_X)"
   ]
  },
  {
   "cell_type": "markdown",
   "metadata": {},
   "source": [
    "### split"
   ]
  },
  {
   "cell_type": "code",
   "execution_count": 6,
   "metadata": {},
   "outputs": [
    {
     "data": {
      "text/plain": [
       "((4500, 117), (4500,), (500, 117), (500,))"
      ]
     },
     "execution_count": 6,
     "metadata": {},
     "output_type": "execute_result"
    }
   ],
   "source": [
    "X_train, X_test, y_train, y_test = train_test_split(data_X, data_Y, test_size=0.1,random_state=20)\n",
    "X_train.shape,y_train.shape,X_test.shape, y_test.shape"
   ]
  },
  {
   "cell_type": "markdown",
   "metadata": {},
   "source": [
    "### Model"
   ]
  },
  {
   "cell_type": "code",
   "execution_count": 7,
   "metadata": {},
   "outputs": [
    {
     "name": "stdout",
     "output_type": "stream",
     "text": [
      "ANN classifier\n",
      "+-------------------+-------+\n",
      "| Evaluation Metric | Score |\n",
      "+-------------------+-------+\n",
      "|      Accuracy     |  1.0  |\n",
      "|      F1-score     |  1.0  |\n",
      "|     Precision     |  1.0  |\n",
      "|       Recall      |  1.0  |\n",
      "|    Specificity    |  1.0  |\n",
      "|        MCC        |  1.0  |\n",
      "|    AUROC value    |  1.0  |\n",
      "+-------------------+-------+\n"
     ]
    },
    {
     "data": {
      "image/png": "[encoded data removed]",
      "text/plain": [
       "<Figure size 432x288 with 1 Axes>"
      ]
     },
     "metadata": {
      "needs_background": "light"
     },
     "output_type": "display_data"
    },
    {
     "name": "stdout",
     "output_type": "stream",
     "text": [
      "--------------------------------------------------------------\n",
      "\n",
      "\n",
      "\n",
      "+-------------------+--------+\n",
      "| Evaluation Metric | Score  |\n",
      "+-------------------+--------+\n",
      "|      Accuracy     |  0.9   |\n",
      "|      F1-score     | 0.6377 |\n",
      "|     Precision     | 0.6667 |\n",
      "|       Recall      | 0.6111 |\n",
      "|    Specificity    | 0.9486 |\n",
      "|        MCC        | 0.5805 |\n",
      "|    AUROC value    | 0.9208 |\n",
      "+-------------------+--------+\n"
     ]
    },
    {
     "data": {
      "image/png": "[encoded data removed]",
      "text/plain": [
       "<Figure size 432x288 with 1 Axes>"
      ]
     },
     "metadata": {
      "needs_background": "light"
     },
     "output_type": "display_data"
    },
    {
     "name": "stdout",
     "output_type": "stream",
     "text": [
      "--------------------------------------------------------------\n",
      "\n",
      "\n",
      "\n"
     ]
    }
   ],
   "source": [
    "model = MLPClassifier(hidden_layer_sizes=(100,50,50))\n",
    "model.fit(X_train,y_train)\n",
    "\n",
    "model_train_pred, model_test_pred = model.predict(X_train), model.predict(X_test)\n",
    "model_train_scores, model_test_scores = model.predict_proba(X_train)[:,1], model.predict_proba(X_test)[:,1]\n",
    "\n",
    "\n",
    "print('ANN classifier')\n",
    "model_metric_list_train, model_metric_list_test = metric(y_train, model_train_pred, model_train_scores, 'ANN(Train metrics)'),\\\n",
    "                                                        metric(y_test, model_test_pred, model_test_scores, 'ANN (Test metrics)')"
   ]
  },
  {
   "cell_type": "code",
   "execution_count": null,
   "metadata": {},
   "outputs": [],
   "source": []
  }
 ],
 "metadata": {
  "kernelspec": {
   "display_name": "Python 3",
   "language": "python",
   "name": "python3"
  },
  "language_info": {
   "codemirror_mode": {
    "name": "ipython",
    "version": 3
   },
   "file_extension": ".py",
   "mimetype": "text/x-python",
   "name": "python",
   "nbconvert_exporter": "python",
   "pygments_lexer": "ipython3",
   "version": "3.7.1"
  }
 },
 "nbformat": 4,
 "nbformat_minor": 2
}
